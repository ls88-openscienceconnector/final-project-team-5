{
 "cells": [
  {
   "cell_type": "markdown",
   "metadata": {},
   "source": [
    "**Abstract:**\n",
    "\n",
    "This study was taken from Dataverse, \"Comparing apples to apples: an environmental criminology analysis of the effects of heat and rain on violent crimes in Boston.\" (https://dataverse.harvard.edu/file.xhtml?persistentId=doi:10.7910/DVN/4UZ9D4/OAQXSM&version=1.0). It analyzes the possible causative relationship between heat and rain and violent crimes in LA. The research methods used in the study were replicating a previously-conducted study, and the basic scientific method. The researchers relied on government data and city data to collect their observations (i.e. they did not collect data themselves).\n",
    "\n",
    "**Data:**\n",
    "\n",
    "The data set is a .csv file that consists of 46 columns of  variables and 3005 observations related to weather in Los Angeles. Important variables used in analysis include season, heat index, month, year, rain, date, and number of crimes. \n",
    "\n",
    "**Strategy:**\n",
    "\n",
    "First we will clean the data set to only include variables of interest, including season, heat, month, year, rain rate, and number of crimes.\n",
    "We will visualize the distribution of data by creating histograms for each of the variables.\n",
    "Additionally, will evaluate the relationship of crimes with each of the other variables by creating visualizations such as scatter plots and calculating correlation coefficients for variable relationships. \n",
    "We will attempt to recreate the values that the authors themselves produced, and compare them.\n",
    "\n",
    "**Analysis:**\n",
    "\n",
    "Outputting violent crimes per month and season, to see how crimes vary according to season, which will indicate how they vary according to weather\n",
    "Converting variables to standard units in order to calculate correlation coefficients\n",
    "Calculation of r, the correlation coefficient \n",
    "\n",
    "**Deliverables:**\n",
    "\n",
    "Original and cleaned data sets in output folder of repo \n",
    "Google slides presentation for the project, linked in the README.md file for the output folder of repo \n"
   ]
  }
 ],
 "metadata": {
  "kernelspec": {
   "display_name": "Python 3",
   "language": "python",
   "name": "python3"
  },
  "language_info": {
   "codemirror_mode": {
    "name": "ipython",
    "version": 3
   },
   "file_extension": ".py",
   "mimetype": "text/x-python",
   "name": "python",
   "nbconvert_exporter": "python",
   "pygments_lexer": "ipython3",
   "version": "3.6.7"
  }
 },
 "nbformat": 4,
 "nbformat_minor": 2
}
