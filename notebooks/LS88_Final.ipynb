{
  "nbformat": 4,
  "nbformat_minor": 0,
  "metadata": {
    "colab": {
      "name": "LS88_Final.ipynb",
      "version": "0.3.2",
      "provenance": [],
      "collapsed_sections": []
    },
    "kernelspec": {
      "name": "python3",
      "display_name": "Python 3"
    }
  },
  "cells": [
    {
      "metadata": {
        "id": "ltBPrhOxI8TN",
        "colab_type": "text"
      },
      "cell_type": "markdown",
      "source": [
        "# L&S 88 - Final Project Notebook"
      ]
    },
    {
      "metadata": {
        "id": "LlRw-v1JJHhj",
        "colab_type": "text"
      },
      "cell_type": "markdown",
      "source": [
        "This notebook includes all code used for our replication project."
      ]
    },
    {
      "metadata": {
        "id": "XOsPNV-yIR8V",
        "colab_type": "code",
        "colab": {}
      },
      "cell_type": "code",
      "source": [
        "from datascience import *\n",
        "import pandas as pd\n",
        "import numpy as np\n",
        "import matplotlib.pyplot as plt\n",
        "%matplotlib inline\n",
        "plt.style.use('fivethirtyeight')"
      ],
      "execution_count": 0,
      "outputs": []
    },
    {
      "metadata": {
        "id": "SdcRqsCPIcgg",
        "colab_type": "text"
      },
      "cell_type": "markdown",
      "source": [
        "### Loading Data"
      ]
    },
    {
      "metadata": {
        "id": "lztU9fL7IVKu",
        "colab_type": "code",
        "colab": {}
      },
      "cell_type": "code",
      "source": [
        "read.csv(./insertdatafilehere)"
      ],
      "execution_count": 0,
      "outputs": []
    }
  ]
}