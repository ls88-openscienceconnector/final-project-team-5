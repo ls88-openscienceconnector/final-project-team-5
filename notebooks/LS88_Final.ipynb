{
 "cells": [
  {
   "cell_type": "markdown",
   "metadata": {},
   "source": [
    "# L&S 88 - Final Project - Weather and Violent Crimes in Boston\n",
    "_Notebook created by Masha Paley, Adrienne Kwok, and Katie Robak_"
   ]
  },
  {
   "cell_type": "markdown",
   "metadata": {},
   "source": [
    "### Table of Contents\n",
    "1. [Dependences](#Dependencies)\n",
    "2. [Loading Data](#Loading-Data)\n",
    "3. [Exploratory Data Analysis](#Exploratory-Data-Analysis)\n",
    "4. [Data Cleaning](#Data-Cleaning)\n",
    "5. [Hypothesis Test](#Hypothesis-Test)\n",
    "6. [Test Statistic](#Test-Statistic)\n",
    "7. [Bootstrap Confidence Interval](#Bootstrap-Confidence-Interval)\n",
    "8. [Conclusion](#Conclusion)\n",
    "9. [Sources](#Sources)"
   ]
  },
  {
   "cell_type": "markdown",
   "metadata": {},
   "source": [
    "### Dependencies\n",
    "Relevant packages are loaded in the code below."
   ]
  },
  {
   "cell_type": "code",
   "execution_count": 1,
   "metadata": {},
   "outputs": [],
   "source": [
    "from datascience import *\n",
    "import pandas as pd\n",
    "import numpy as np\n",
    "import matplotlib.pyplot as plt\n",
    "%matplotlib inline\n",
    "plt.style.use('fivethirtyeight')"
   ]
  },
  {
   "cell_type": "markdown",
   "metadata": {},
   "source": [
    "### Loading Data\n",
    "Read in data to notebook from the [Dataverse site](https://dataverse.harvard.edu/dataset.xhtml?persistentId=doi:10.7910/DVN/4UZ9D4) for the study using the `read_table()` function."
   ]
  },
  {
   "cell_type": "code",
   "execution_count": 3,
   "metadata": {},
   "outputs": [],
   "source": [
    "data = Table.read_table(\"weather_crimes_Boston.csv\")"
   ]
  },
  {
   "cell_type": "code",
   "execution_count": 4,
   "metadata": {},
   "outputs": [
    {
     "data": {
      "text/html": [
       "<table border=\"1\" class=\"dataframe\">\n",
       "    <thead>\n",
       "        <tr>\n",
       "            <th>Date</th> <th>Day_Wk</th> <th>nb_crimes</th> <th>nb_aggravated</th> <th>nb_simple</th> <th>nb_vandalism</th> <th>nb_robbery</th> <th>nb_larceny</th> <th>nb_fraud</th> <th>nb_selected</th> <th>TEMP</th> <th>TMAX_C</th> <th>TMIN_C</th> <th>DEWP</th> <th>VISIB</th> <th>Wind</th> <th>PRCP</th> <th>y2012</th> <th>y2013</th> <th>y2014</th> <th>y2015</th> <th>y2016</th> <th>y2017</th> <th>year</th> <th>Friday</th> <th>Monday</th> <th>Saturday</th> <th>Sunday</th> <th>Thursday</th> <th>Tuesday</th> <th>Wednesday</th> <th>Weekend</th> <th>DEWP_lag</th> <th>WDSP_lag</th> <th>PRCP_lag</th> <th>TEMP_lag</th> <th>Season</th> <th>Summer</th> <th>Fall</th> <th>Winter</th> <th>Spring</th> <th>heat.index</th> <th>DayMonth</th> <th>DayMonth_3</th> <th>DayMonth1</th> <th>DayMonth2</th> <th>DayMonth3</th> <th>DayMonth1_15_30</th> <th>LastDayMonth</th> <th>FirstDayMonth</th> <th>MidDayMonth</th> <th>SNOW</th> <th>Events</th> <th>Holidays</th> <th>Snow</th> <th>Rain</th> <th>WindxRain</th> <th>WindxHeatIndex</th>\n",
       "        </tr>\n",
       "    </thead>\n",
       "    <tbody>\n",
       "        <tr>\n",
       "            <td>2012-07-08</td> <td>Sunday   </td> <td>177      </td> <td>8            </td> <td>19       </td> <td>13          </td> <td>7         </td> <td>31        </td> <td>3       </td> <td>42         </td> <td>26.4444</td> <td>31.7222</td> <td>21.7222</td> <td>15.9444</td> <td>10   </td> <td>8.5 </td> <td>0   </td> <td>1    </td> <td>0    </td> <td>0    </td> <td>0    </td> <td>0    </td> <td>0    </td> <td>2012</td> <td>0     </td> <td>0     </td> <td>0       </td> <td>1     </td> <td>0       </td> <td>0      </td> <td>0        </td> <td>1      </td> <td>nan     </td> <td>nan     </td> <td>nan     </td> <td>nan     </td> <td>Summer</td> <td>1     </td> <td>0   </td> <td>0     </td> <td>0     </td> <td>27        </td> <td>8       </td> <td>1         </td> <td>1        </td> <td>0        </td> <td>0        </td> <td>0              </td> <td>0           </td> <td>0            </td> <td>0          </td> <td>0   </td> <td>0     </td> <td>0       </td> <td>0   </td> <td>0   </td> <td>0        </td> <td>229.5         </td>\n",
       "        </tr>\n",
       "        <tr>\n",
       "            <td>2012-07-09</td> <td>Monday   </td> <td>285      </td> <td>6            </td> <td>17       </td> <td>14          </td> <td>7         </td> <td>48        </td> <td>11      </td> <td>37         </td> <td>24.3333</td> <td>31.7222</td> <td>20     </td> <td>9.66667</td> <td>10   </td> <td>7.9 </td> <td>0   </td> <td>1    </td> <td>0    </td> <td>0    </td> <td>0    </td> <td>0    </td> <td>0    </td> <td>2012</td> <td>0     </td> <td>1     </td> <td>0       </td> <td>0     </td> <td>0       </td> <td>0      </td> <td>0        </td> <td>0      </td> <td>15.9444 </td> <td>8.5     </td> <td>0       </td> <td>26.4444 </td> <td>Summer</td> <td>1     </td> <td>0   </td> <td>0     </td> <td>0     </td> <td>24        </td> <td>9       </td> <td>1         </td> <td>1        </td> <td>0        </td> <td>0        </td> <td>0              </td> <td>0           </td> <td>0            </td> <td>0          </td> <td>0   </td> <td>0     </td> <td>0       </td> <td>0   </td> <td>0   </td> <td>0        </td> <td>189.6         </td>\n",
       "        </tr>\n",
       "        <tr>\n",
       "            <td>2012-07-10</td> <td>Tuesday  </td> <td>263      </td> <td>11           </td> <td>20       </td> <td>15          </td> <td>3         </td> <td>43        </td> <td>10      </td> <td>49         </td> <td>22.7222</td> <td>28.8889</td> <td>18.2778</td> <td>9.66667</td> <td>10   </td> <td>5.5 </td> <td>0   </td> <td>1    </td> <td>0    </td> <td>0    </td> <td>0    </td> <td>0    </td> <td>0    </td> <td>2012</td> <td>0     </td> <td>0     </td> <td>0       </td> <td>0     </td> <td>0       </td> <td>1      </td> <td>0        </td> <td>0      </td> <td>9.66667 </td> <td>7.9     </td> <td>0       </td> <td>24.3333 </td> <td>Summer</td> <td>1     </td> <td>0   </td> <td>0     </td> <td>0     </td> <td>22        </td> <td>10      </td> <td>1         </td> <td>1        </td> <td>0        </td> <td>0        </td> <td>0              </td> <td>0           </td> <td>0            </td> <td>0          </td> <td>0   </td> <td>0     </td> <td>0       </td> <td>0   </td> <td>0   </td> <td>0        </td> <td>121           </td>\n",
       "        </tr>\n",
       "        <tr>\n",
       "            <td>2012-07-11</td> <td>Wednesday</td> <td>246      </td> <td>8            </td> <td>15       </td> <td>17          </td> <td>2         </td> <td>35        </td> <td>4       </td> <td>43         </td> <td>23.1667</td> <td>28.2778</td> <td>18.2778</td> <td>14.5   </td> <td>10   </td> <td>6.7 </td> <td>0   </td> <td>1    </td> <td>0    </td> <td>0    </td> <td>0    </td> <td>0    </td> <td>0    </td> <td>2012</td> <td>0     </td> <td>0     </td> <td>0       </td> <td>0     </td> <td>0       </td> <td>0      </td> <td>1        </td> <td>0      </td> <td>9.66667 </td> <td>5.5     </td> <td>0       </td> <td>22.7222 </td> <td>Summer</td> <td>1     </td> <td>0   </td> <td>0     </td> <td>0     </td> <td>23        </td> <td>11      </td> <td>2         </td> <td>0        </td> <td>1        </td> <td>0        </td> <td>0              </td> <td>0           </td> <td>0            </td> <td>0          </td> <td>0   </td> <td>0     </td> <td>0       </td> <td>0   </td> <td>0   </td> <td>0        </td> <td>154.1         </td>\n",
       "        </tr>\n",
       "        <tr>\n",
       "            <td>2012-07-12</td> <td>Thursday </td> <td>251      </td> <td>7            </td> <td>12       </td> <td>22          </td> <td>3         </td> <td>49        </td> <td>9       </td> <td>43         </td> <td>24.5   </td> <td>30     </td> <td>18.8889</td> <td>15.6111</td> <td>10   </td> <td>8.6 </td> <td>0   </td> <td>1    </td> <td>0    </td> <td>0    </td> <td>0    </td> <td>0    </td> <td>0    </td> <td>2012</td> <td>0     </td> <td>0     </td> <td>0       </td> <td>0     </td> <td>1       </td> <td>0      </td> <td>0        </td> <td>0      </td> <td>14.5    </td> <td>6.7     </td> <td>0       </td> <td>23.1667 </td> <td>Summer</td> <td>1     </td> <td>0   </td> <td>0     </td> <td>0     </td> <td>25        </td> <td>12      </td> <td>2         </td> <td>0        </td> <td>1        </td> <td>0        </td> <td>0              </td> <td>0           </td> <td>0            </td> <td>0          </td> <td>0   </td> <td>0     </td> <td>0       </td> <td>0   </td> <td>0   </td> <td>0        </td> <td>215           </td>\n",
       "        </tr>\n",
       "    </tbody>\n",
       "</table>\n",
       "<p>... (1690 rows omitted)</p>"
      ],
      "text/plain": [
       "<IPython.core.display.HTML object>"
      ]
     },
     "metadata": {},
     "output_type": "display_data"
    }
   ],
   "source": [
    "data.show(5)"
   ]
  },
  {
   "cell_type": "markdown",
   "metadata": {},
   "source": [
    "---"
   ]
  },
  {
   "cell_type": "markdown",
   "metadata": {},
   "source": [
    "### Exploratory Data Analysis\n",
    "Explore data values and create visualizations for relevant variables (`PRCP` and `nb_crimes`)."
   ]
  },
  {
   "cell_type": "code",
   "execution_count": 5,
   "metadata": {},
   "outputs": [
    {
     "name": "stdout",
     "output_type": "stream",
     "text": [
      "Range of precipitation values: [0.0, 3.54]\n",
      "Range of crime count values: [110, 343]\n"
     ]
    }
   ],
   "source": [
    "print(\"Range of precipitation values:\", [np.min(data.column(\"PRCP\")), np.max(data.column(\"PRCP\"))])\n",
    "print(\"Range of crime count values:\", [np.min(data.column(\"nb_crimes\")), np.max(data.column(\"nb_crimes\"))])"
   ]
  },
  {
   "cell_type": "code",
   "execution_count": 6,
   "metadata": {},
   "outputs": [],
   "source": [
    "rainy_days = data.where(\"PRCP\", are.above(0)).column(\"nb_crimes\")\n",
    "non_rainy_days = data.where(\"PRCP\", are.equal_to(0)).column(\"nb_crimes\")"
   ]
  },
  {
   "cell_type": "code",
   "execution_count": 7,
   "metadata": {},
   "outputs": [
    {
     "data": {
      "text/plain": [
       "<matplotlib.legend.Legend at 0x7ff7edcde588>"
      ]
     },
     "execution_count": 7,
     "metadata": {},
     "output_type": "execute_result"
    },
    {
     "data": {
      "image/png": "[encoded data removed]",
      "text/plain": [
       "<Figure size 432x288 with 1 Axes>"
      ]
     },
     "metadata": {},
     "output_type": "display_data"
    }
   ],
   "source": [
    "plt.hist(rainy_days, density = True, alpha = 0.5)       # reusing the rainy_days array created above\n",
    "plt.hist(non_rainy_days, density = True, alpha = 0.5)   # reusing the non_rainy_days array created above\n",
    "plt.title('Histograms of Crime Count on Rainy and Non-Rainy Days')\n",
    "plt.xlabel('Crime count')\n",
    "plt.legend(['Rainy', 'Non-Rainy'])"
   ]
  },
  {
   "cell_type": "markdown",
   "metadata": {},
   "source": [
    "Based on the above visualization, it looks like our intuition that more crimes occur on non-rainy days is correct. We will test that hypothesis in the rest of the notebook."
   ]
  },
  {
   "cell_type": "markdown",
   "metadata": {},
   "source": [
    "---"
   ]
  },
  {
   "cell_type": "markdown",
   "metadata": {},
   "source": [
    "### Data Cleaning\n",
    "Select relevant columns from table for precipitation hypothesis test based on background covariates included in original study (see pre-analysis plan in notebooks section of github repo). Desired columns include: `Date`, `Winter`, `Spring`, `Wind`, `SNOW`, `heat.index`, `WindxHeatIndex`, `PRCP`, `Events`, and `nb_crimes`."
   ]
  },
  {
   "cell_type": "code",
   "execution_count": 8,
   "metadata": {},
   "outputs": [
    {
     "data": {
      "text/html": [
       "<table border=\"1\" class=\"dataframe\">\n",
       "    <thead>\n",
       "        <tr>\n",
       "            <th>Date</th> <th>nb_crimes</th> <th>heat.index</th> <th>WindxHeatIndex</th> <th>PRCP</th> <th>SNOW</th> <th>Wind</th> <th>Winter</th> <th>Spring</th> <th>Events</th>\n",
       "        </tr>\n",
       "    </thead>\n",
       "    <tbody>\n",
       "        <tr>\n",
       "            <td>2012-07-08</td> <td>177      </td> <td>27        </td> <td>229.5         </td> <td>0   </td> <td>0   </td> <td>8.5 </td> <td>0     </td> <td>0     </td> <td>0     </td>\n",
       "        </tr>\n",
       "        <tr>\n",
       "            <td>2012-07-09</td> <td>285      </td> <td>24        </td> <td>189.6         </td> <td>0   </td> <td>0   </td> <td>7.9 </td> <td>0     </td> <td>0     </td> <td>0     </td>\n",
       "        </tr>\n",
       "        <tr>\n",
       "            <td>2012-07-10</td> <td>263      </td> <td>22        </td> <td>121           </td> <td>0   </td> <td>0   </td> <td>5.5 </td> <td>0     </td> <td>0     </td> <td>0     </td>\n",
       "        </tr>\n",
       "        <tr>\n",
       "            <td>2012-07-11</td> <td>246      </td> <td>23        </td> <td>154.1         </td> <td>0   </td> <td>0   </td> <td>6.7 </td> <td>0     </td> <td>0     </td> <td>0     </td>\n",
       "        </tr>\n",
       "        <tr>\n",
       "            <td>2012-07-12</td> <td>251      </td> <td>25        </td> <td>215           </td> <td>0   </td> <td>0   </td> <td>8.6 </td> <td>0     </td> <td>0     </td> <td>0     </td>\n",
       "        </tr>\n",
       "        <tr>\n",
       "            <td>2012-07-13</td> <td>264      </td> <td>26        </td> <td>275.6         </td> <td>0   </td> <td>0   </td> <td>10.6</td> <td>0     </td> <td>0     </td> <td>0     </td>\n",
       "        </tr>\n",
       "        <tr>\n",
       "            <td>2012-07-14</td> <td>213      </td> <td>27        </td> <td>224.1         </td> <td>0   </td> <td>0   </td> <td>8.3 </td> <td>0     </td> <td>0     </td> <td>0     </td>\n",
       "        </tr>\n",
       "        <tr>\n",
       "            <td>2012-07-15</td> <td>235      </td> <td>29        </td> <td>229.1         </td> <td>0   </td> <td>0   </td> <td>7.9 </td> <td>0     </td> <td>0     </td> <td>0     </td>\n",
       "        </tr>\n",
       "        <tr>\n",
       "            <td>2012-07-16</td> <td>248      </td> <td>28        </td> <td>268.8         </td> <td>0   </td> <td>0   </td> <td>9.6 </td> <td>0     </td> <td>0     </td> <td>0     </td>\n",
       "        </tr>\n",
       "        <tr>\n",
       "            <td>2012-07-17</td> <td>279      </td> <td>30        </td> <td>234           </td> <td>0   </td> <td>0   </td> <td>7.8 </td> <td>0     </td> <td>0     </td> <td>0     </td>\n",
       "        </tr>\n",
       "    </tbody>\n",
       "</table>\n",
       "<p>... (1685 rows omitted)</p>"
      ],
      "text/plain": [
       "<IPython.core.display.HTML object>"
      ]
     },
     "metadata": {},
     "output_type": "display_data"
    }
   ],
   "source": [
    "cleaned_data = data.select(\"Date\", \"nb_crimes\", \"heat.index\", \"WindxHeatIndex\", \"PRCP\", \"SNOW\", \"Wind\", \"Winter\", \"Spring\", \"Events\")\n",
    "cleaned_data.show(10)"
   ]
  },
  {
   "cell_type": "markdown",
   "metadata": {},
   "source": [
    "In the actual study, matched-sampling strategies were used to create a resample with ideal conditions for a randomized controlled experiment (i.e. a sample where covariate distributions on treatment and control days are similar on average). Because the techniques used to create this resample are beyond the scope of our knowledge, we will skip this step and just use the cleaned dataset above for resampling."
   ]
  },
  {
   "cell_type": "markdown",
   "metadata": {},
   "source": [
    "---"
   ]
  },
  {
   "cell_type": "markdown",
   "metadata": {},
   "source": [
    "### Hypothesis Test\n",
    "\n",
    "**H<sub>0</sub>** : Precipitation has no effect on the daily violent crime count in Boston.<br/>\n",
    "**H<sub>A</sub>** : The presence of precipitation decreases the daily violent crime count in Boston.\n",
    "\n",
    "According to these hypotheses, the treatment group for our experiment includes all days when there was precipitation (i.e. `PRCP` > 1) and the control group includes all days when there was no precipitation (i.e. `PRCP` = 0)."
   ]
  },
  {
   "cell_type": "markdown",
   "metadata": {},
   "source": [
    "---"
   ]
  },
  {
   "cell_type": "markdown",
   "metadata": {},
   "source": [
    "### Test Statistic\n",
    "The test statistic used in the original study was the average exposure effect, denoted `AEE`, defined below.\n",
    "\n",
    "$$ {AEE}_i = \\frac{1}{N}\\sum_{i = 1}^{N}Y_i(1) - \\frac{1}{N}\\sum_{i = 1}^{N}Y_i(0) $$\n",
    "\n",
    "Since in our simplified replication we did not create a resample with i elements, we will create a slightly different definition for AEE.<br/> \n",
    "For our purposes, we will simply compare the average violent crime count on rainy days with the average crime count on non-rainy days."
   ]
  },
  {
   "cell_type": "code",
   "execution_count": 9,
   "metadata": {},
   "outputs": [],
   "source": [
    "no_rain = cleaned_data.where(\"PRCP\", are.equal_to(0)).column(\"nb_crimes\")\n",
    "rain = cleaned_data.where(\"PRCP\", are.above(0)).column(\"nb_crimes\")"
   ]
  },
  {
   "cell_type": "code",
   "execution_count": 10,
   "metadata": {},
   "outputs": [
    {
     "name": "stdout",
     "output_type": "stream",
     "text": [
      "average crime count on non-rainy days = 239.43622200584227\n",
      "average crime count on rainy days = 230.63622754491018\n"
     ]
    }
   ],
   "source": [
    "no_rain_avg = np.mean(no_rain)\n",
    "rain_avg = np.mean(rain)\n",
    "print(\"average crime count on non-rainy days =\", no_rain_avg) \n",
    "print(\"average crime count on rainy days =\", rain_avg)"
   ]
  },
  {
   "cell_type": "markdown",
   "metadata": {},
   "source": [
    "In order to obtain a value similar to the AEE calculated in the original study, we will calculate the difference in mean crime count between rainy and non-rainy days."
   ]
  },
  {
   "cell_type": "code",
   "execution_count": 11,
   "metadata": {},
   "outputs": [
    {
     "data": {
      "text/plain": [
       "-8.799994460932083"
      ]
     },
     "execution_count": 11,
     "metadata": {},
     "output_type": "execute_result"
    }
   ],
   "source": [
    "aee = rain_avg - no_rain_avg\n",
    "aee"
   ]
  },
  {
   "cell_type": "markdown",
   "metadata": {},
   "source": [
    "---"
   ]
  },
  {
   "cell_type": "markdown",
   "metadata": {},
   "source": [
    "### Bootstrap Confidence Interval\n",
    "Calculate a 95% confidence interval using bootstrapping via a for loop.\n",
    "\n",
    "**Note**: In the original study, resampling was done so that there was an equal chance of a day being part of the control group or treatment group. This is not the case in our replication, since the bootstrapping method we use simply takes a random sample with replacement from the original data set without making any corrections."
   ]
  },
  {
   "cell_type": "code",
   "execution_count": 12,
   "metadata": {},
   "outputs": [],
   "source": [
    "n = 1000\n",
    "size = cleaned_data.num_rows\n",
    "bootstrap_aee = make_array()\n",
    "\n",
    "for i in np.arange(n):\n",
    "    bootstrap_sample = cleaned_data.sample(with_replacement = True)\n",
    "    no_rain = bootstrap_sample.where(\"PRCP\", are.equal_to(0)).column(\"nb_crimes\")\n",
    "    rain = bootstrap_sample.where(\"PRCP\", are.above(0)).column(\"nb_crimes\")\n",
    "    no_rain_avg = np.mean(no_rain)\n",
    "    rain_avg = np.mean(rain)\n",
    "    resampled_aee = rain_avg - no_rain_avg\n",
    "    bootstrap_aee = np.append(bootstrap_aee, resampled_aee)"
   ]
  },
  {
   "cell_type": "code",
   "execution_count": 13,
   "metadata": {},
   "outputs": [
    {
     "name": "stdout",
     "output_type": "stream",
     "text": [
      "95% Confidence Interval: [-12.121918233158993, -5.345201960215007]\n"
     ]
    }
   ],
   "source": [
    "lower_bound = percentile(2.5, bootstrap_aee)\n",
    "upper_bound = percentile(97.5, bootstrap_aee)\n",
    "print(\"95% Confidence Interval:\" ,[lower_bound, upper_bound])"
   ]
  },
  {
   "cell_type": "markdown",
   "metadata": {},
   "source": [
    "### Conclusion\n",
    "Since the entire 95% confidence interval for the approximated AEE is a negative range and contains our original estimate, we reject the null hypothesis that the presense of precipitation has no effect on daily violent crime count in Boston.\n",
    "\n",
    "This conclusion is **the same** as the one that was reached by the [original study.](https://www.nature.com/articles/s41599-018-0188-3#MOESM1)\n",
    "> The hypothetical experiment focusing on the estimation of the AEE of the occurrence of rainfall suggests that compared to dry days, the average daily violent crimes count decreases by 1.37 (95% posterior interval: [−1.94; −0.79]) during rainy days. In Boston, rainy days have fewer crimes than dry days on average.\n",
    "\n",
    "Although we reached the same conclusion, our confidence interval does not match up with the interval reported in the original study. The figures in our interval are more negative, indicating a greater effect of precipitation on daily crime count. This can be explained by the fact that the methods we used to obtain our interval were drastically simplified compared to those in the original study. As a result, our test can only confirm whether or not precipitation has an effect on daily crime count and is not reliable for measuring the magnitude of that effect. Our interval is much larger, indicating greater variability in our boostrap samples.\n",
    "\n",
    "Since we were able to reproduce the same conclusion from the same data using different methods, it appears that the methods and statistics in the original study are sound (at least for the precipitation analysis they conducted). A more advanced replication would be needed in order to confirm if the effect sizes calculated in the original study were accurate."
   ]
  },
  {
   "cell_type": "markdown",
   "metadata": {},
   "source": [
    "### Sources\n",
    "Data 8 Textbook: Confidence Intervals  <br/>\n",
    "[https://www.inferentialthinking.com/chapters/13/3/Confidence_Intervals.html](https://www.inferentialthinking.com/chapters/13/3/Confidence_Intervals.html)\n",
    "\n",
    "Sommer, Alice J., Mihye Lee, and Marie-Abèle C. Bind. \"Comparing apples to apples: an environmental criminology analysis of the effects of heat and rain on violent crimes in Boston.\" Palgrave Communications 4.1 (2018): 138. <br/> [https://www.nature.com/articles/s41599-018-0188-3#MOESM1](https://www.nature.com/articles/s41599-018-0188-3#MOESM1)\n",
    "\n",
    "Sommer, Alice J., Mihye Lee, and Marie-Abèle C. Bind. \"Replication Data for: Comparing apples to apples: an environmental criminology analysis of the effects of heat and rain on violent crimes in Boston.\" Harvard Dataverse (2018). <br/> [https://doi.org/10.7910/DVN/4UZ9D4doi/10.7910/DVN/4UZ9D4](https://doi.org/10.7910/DVN/4UZ9D4doi/10.7910/DVN/4UZ9D4)"
   ]
  }
 ],
 "metadata": {
  "kernelspec": {
   "display_name": "Python 3",
   "language": "python",
   "name": "python3"
  },
  "language_info": {
   "codemirror_mode": {
    "name": "ipython",
    "version": 3
   },
   "file_extension": ".py",
   "mimetype": "text/x-python",
   "name": "python",
   "nbconvert_exporter": "python",
   "pygments_lexer": "ipython3",
   "version": "3.6.7"
  }
 },
 "nbformat": 4,
 "nbformat_minor": 2
}
