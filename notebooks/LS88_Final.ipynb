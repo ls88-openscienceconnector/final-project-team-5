{
 "cells": [
  {
   "cell_type": "code",
   "execution_count": 2,
   "metadata": {},
   "outputs": [],
   "source": [
    "from datascience import *\n",
    "import pandas as pd\n",
    "import numpy as np\n",
    "import matplotlib.pyplot as plt\n",
    "%matplotlib inline\n",
    "plt.style.use('fivethirtyeight')"
   ]
  },
  {
   "cell_type": "code",
   "execution_count": 4,
   "metadata": {},
   "outputs": [
    {
     "data": {
      "text/html": [
       "<table border=\"1\" class=\"dataframe\">\n",
       "    <thead>\n",
       "        <tr>\n",
       "            <th>Date</th> <th>nb_crimes</th> <th>nb_aggravated</th> <th>nb_vandalism</th> <th>nb_robbery</th> <th>nb_selected</th> <th>TEMP</th> <th>Wind</th> <th>PRCP</th> <th>DEWP</th> <th>Day_Wk</th> <th>y2010</th> <th>y2011</th> <th>y2012</th> <th>y2013</th> <th>y2014</th> <th>y2015</th> <th>y2016</th> <th>y2017</th> <th>y2018</th> <th>year</th> <th>Weekend</th> <th>Friday</th> <th>WDSP_lag</th> <th>PRCP_lag</th> <th>TEMP_lag</th> <th>Season</th> <th>Winter</th> <th>Spring</th> <th>Summer</th> <th>Fall</th> <th>heat.index</th> <th>DayMonth</th> <th>DayMonth_3</th> <th>DayMonth1</th> <th>DayMonth2</th> <th>DayMonth3</th> <th>DayMonth1_15_30</th> <th>LastDayMonth</th> <th>FirstDayMonth</th> <th>MidDayMonth</th> <th>Events</th> <th>Holidays</th> <th>Rain</th> <th>WindxRain</th> <th>WindxHeatIndex</th>\n",
       "        </tr>\n",
       "    </thead>\n",
       "    <tbody>\n",
       "        <tr>\n",
       "            <td>2010-01-01</td> <td>2158     </td> <td>43           </td> <td>75          </td> <td>36        </td> <td>333        </td> <td>14.6111</td> <td>3.6 </td> <td>0   </td> <td>2.88889 </td> <td>Friday   </td> <td>1    </td> <td>0    </td> <td>0    </td> <td>0    </td> <td>0    </td> <td>0    </td> <td>0    </td> <td>0    </td> <td>0    </td> <td>2010</td> <td>0      </td> <td>1     </td> <td>nan     </td> <td>nan     </td> <td>nan     </td> <td>Winter</td> <td>1     </td> <td>0     </td> <td>0     </td> <td>0   </td> <td>13        </td> <td>1       </td> <td>1         </td> <td>1        </td> <td>0        </td> <td>0        </td> <td>1              </td> <td>0           </td> <td>1            </td> <td>0          </td> <td>0     </td> <td>1       </td> <td>0   </td> <td>0        </td> <td>46.8          </td>\n",
       "        </tr>\n",
       "        <tr>\n",
       "            <td>2010-01-02</td> <td>533      </td> <td>23           </td> <td>56          </td> <td>31        </td> <td>196        </td> <td>17.6667</td> <td>4.9 </td> <td>0   </td> <td>3.16667 </td> <td>Saturday </td> <td>1    </td> <td>0    </td> <td>0    </td> <td>0    </td> <td>0    </td> <td>0    </td> <td>0    </td> <td>0    </td> <td>0    </td> <td>2010</td> <td>1      </td> <td>0     </td> <td>3.6     </td> <td>0       </td> <td>14.6111 </td> <td>Winter</td> <td>1     </td> <td>0     </td> <td>0     </td> <td>0   </td> <td>16        </td> <td>2       </td> <td>1         </td> <td>1        </td> <td>0        </td> <td>0        </td> <td>0              </td> <td>0           </td> <td>0            </td> <td>0          </td> <td>0     </td> <td>0       </td> <td>0   </td> <td>0        </td> <td>78.4          </td>\n",
       "        </tr>\n",
       "        <tr>\n",
       "            <td>2010-01-03</td> <td>539      </td> <td>30           </td> <td>59          </td> <td>23        </td> <td>219        </td> <td>18.6667</td> <td>4.7 </td> <td>0   </td> <td>-3.11111</td> <td>Sunday   </td> <td>1    </td> <td>0    </td> <td>0    </td> <td>0    </td> <td>0    </td> <td>0    </td> <td>0    </td> <td>0    </td> <td>0    </td> <td>2010</td> <td>1      </td> <td>0     </td> <td>4.9     </td> <td>0       </td> <td>17.6667 </td> <td>Winter</td> <td>1     </td> <td>0     </td> <td>0     </td> <td>0   </td> <td>17        </td> <td>3       </td> <td>1         </td> <td>1        </td> <td>0        </td> <td>0        </td> <td>0              </td> <td>0           </td> <td>0            </td> <td>0          </td> <td>0     </td> <td>0       </td> <td>0   </td> <td>0        </td> <td>79.9          </td>\n",
       "        </tr>\n",
       "        <tr>\n",
       "            <td>2010-01-04</td> <td>558      </td> <td>15           </td> <td>54          </td> <td>34        </td> <td>159        </td> <td>17.6667</td> <td>5.4 </td> <td>0   </td> <td>-4.27778</td> <td>Monday   </td> <td>1    </td> <td>0    </td> <td>0    </td> <td>0    </td> <td>0    </td> <td>0    </td> <td>0    </td> <td>0    </td> <td>0    </td> <td>2010</td> <td>0      </td> <td>0     </td> <td>4.7     </td> <td>0       </td> <td>18.6667 </td> <td>Winter</td> <td>1     </td> <td>0     </td> <td>0     </td> <td>0   </td> <td>16        </td> <td>4       </td> <td>1         </td> <td>1        </td> <td>0        </td> <td>0        </td> <td>0              </td> <td>0           </td> <td>0            </td> <td>0          </td> <td>0     </td> <td>0       </td> <td>0   </td> <td>0        </td> <td>86.4          </td>\n",
       "        </tr>\n",
       "        <tr>\n",
       "            <td>2010-01-05</td> <td>547      </td> <td>17           </td> <td>52          </td> <td>24        </td> <td>160        </td> <td>16.3333</td> <td>3.8 </td> <td>0   </td> <td>-1.55556</td> <td>Tuesday  </td> <td>1    </td> <td>0    </td> <td>0    </td> <td>0    </td> <td>0    </td> <td>0    </td> <td>0    </td> <td>0    </td> <td>0    </td> <td>2010</td> <td>0      </td> <td>0     </td> <td>5.4     </td> <td>0       </td> <td>17.6667 </td> <td>Winter</td> <td>1     </td> <td>0     </td> <td>0     </td> <td>0   </td> <td>15        </td> <td>5       </td> <td>1         </td> <td>1        </td> <td>0        </td> <td>0        </td> <td>0              </td> <td>0           </td> <td>0            </td> <td>0          </td> <td>0     </td> <td>0       </td> <td>0   </td> <td>0        </td> <td>57            </td>\n",
       "        </tr>\n",
       "        <tr>\n",
       "            <td>2010-01-06</td> <td>532      </td> <td>21           </td> <td>49          </td> <td>29        </td> <td>174        </td> <td>15.6667</td> <td>3.6 </td> <td>0   </td> <td>3.83333 </td> <td>Wednesday</td> <td>1    </td> <td>0    </td> <td>0    </td> <td>0    </td> <td>0    </td> <td>0    </td> <td>0    </td> <td>0    </td> <td>0    </td> <td>2010</td> <td>0      </td> <td>0     </td> <td>3.8     </td> <td>0       </td> <td>16.3333 </td> <td>Winter</td> <td>1     </td> <td>0     </td> <td>0     </td> <td>0   </td> <td>14        </td> <td>6       </td> <td>1         </td> <td>1        </td> <td>0        </td> <td>0        </td> <td>0              </td> <td>0           </td> <td>0            </td> <td>0          </td> <td>0     </td> <td>0       </td> <td>0   </td> <td>0        </td> <td>50.4          </td>\n",
       "        </tr>\n",
       "        <tr>\n",
       "            <td>2010-01-07</td> <td>550      </td> <td>20           </td> <td>54          </td> <td>25        </td> <td>159        </td> <td>13.9444</td> <td>3.1 </td> <td>0   </td> <td>7.77778 </td> <td>Thursday </td> <td>1    </td> <td>0    </td> <td>0    </td> <td>0    </td> <td>0    </td> <td>0    </td> <td>0    </td> <td>0    </td> <td>0    </td> <td>2010</td> <td>0      </td> <td>0     </td> <td>3.6     </td> <td>0       </td> <td>15.6667 </td> <td>Winter</td> <td>1     </td> <td>0     </td> <td>0     </td> <td>0   </td> <td>13        </td> <td>7       </td> <td>1         </td> <td>1        </td> <td>0        </td> <td>0        </td> <td>0              </td> <td>0           </td> <td>0            </td> <td>0          </td> <td>0     </td> <td>0       </td> <td>0   </td> <td>0        </td> <td>40.3          </td>\n",
       "        </tr>\n",
       "        <tr>\n",
       "            <td>2010-01-08</td> <td>605      </td> <td>21           </td> <td>56          </td> <td>37        </td> <td>184        </td> <td>14.3889</td> <td>3.4 </td> <td>0   </td> <td>8.22222 </td> <td>Friday   </td> <td>1    </td> <td>0    </td> <td>0    </td> <td>0    </td> <td>0    </td> <td>0    </td> <td>0    </td> <td>0    </td> <td>0    </td> <td>2010</td> <td>0      </td> <td>1     </td> <td>3.1     </td> <td>0       </td> <td>13.9444 </td> <td>Winter</td> <td>1     </td> <td>0     </td> <td>0     </td> <td>0   </td> <td>14        </td> <td>8       </td> <td>1         </td> <td>1        </td> <td>0        </td> <td>0        </td> <td>0              </td> <td>0           </td> <td>0            </td> <td>0          </td> <td>0     </td> <td>0       </td> <td>0   </td> <td>0        </td> <td>47.6          </td>\n",
       "        </tr>\n",
       "        <tr>\n",
       "            <td>2010-01-09</td> <td>628      </td> <td>35           </td> <td>79          </td> <td>33        </td> <td>237        </td> <td>17.8889</td> <td>5.8 </td> <td>0   </td> <td>3.33333 </td> <td>Saturday </td> <td>1    </td> <td>0    </td> <td>0    </td> <td>0    </td> <td>0    </td> <td>0    </td> <td>0    </td> <td>0    </td> <td>0    </td> <td>2010</td> <td>1      </td> <td>0     </td> <td>3.4     </td> <td>0       </td> <td>14.3889 </td> <td>Winter</td> <td>1     </td> <td>0     </td> <td>0     </td> <td>0   </td> <td>17        </td> <td>9       </td> <td>1         </td> <td>1        </td> <td>0        </td> <td>0        </td> <td>0              </td> <td>0           </td> <td>0            </td> <td>0          </td> <td>0     </td> <td>0       </td> <td>0   </td> <td>0        </td> <td>98.6          </td>\n",
       "        </tr>\n",
       "        <tr>\n",
       "            <td>2010-01-10</td> <td>618      </td> <td>27           </td> <td>46          </td> <td>35        </td> <td>192        </td> <td>17.1667</td> <td>4.4 </td> <td>0   </td> <td>5.16667 </td> <td>Sunday   </td> <td>1    </td> <td>0    </td> <td>0    </td> <td>0    </td> <td>0    </td> <td>0    </td> <td>0    </td> <td>0    </td> <td>0    </td> <td>2010</td> <td>1      </td> <td>0     </td> <td>5.8     </td> <td>0       </td> <td>17.8889 </td> <td>Winter</td> <td>1     </td> <td>0     </td> <td>0     </td> <td>0   </td> <td>16        </td> <td>10      </td> <td>1         </td> <td>1        </td> <td>0        </td> <td>0        </td> <td>0              </td> <td>0           </td> <td>0            </td> <td>0          </td> <td>0     </td> <td>0       </td> <td>0   </td> <td>0        </td> <td>70.4          </td>\n",
       "        </tr>\n",
       "    </tbody>\n",
       "</table>\n",
       "<p>... (2995 rows omitted)</p>"
      ],
      "text/plain": [
       "Date       | nb_crimes | nb_aggravated | nb_vandalism | nb_robbery | nb_selected | TEMP    | Wind | PRCP | DEWP     | Day_Wk    | y2010 | y2011 | y2012 | y2013 | y2014 | y2015 | y2016 | y2017 | y2018 | year | Weekend | Friday | WDSP_lag | PRCP_lag | TEMP_lag | Season | Winter | Spring | Summer | Fall | heat.index | DayMonth | DayMonth_3 | DayMonth1 | DayMonth2 | DayMonth3 | DayMonth1_15_30 | LastDayMonth | FirstDayMonth | MidDayMonth | Events | Holidays | Rain | WindxRain | WindxHeatIndex\n",
       "2010-01-01 | 2158      | 43            | 75           | 36         | 333         | 14.6111 | 3.6  | 0    | 2.88889  | Friday    | 1     | 0     | 0     | 0     | 0     | 0     | 0     | 0     | 0     | 2010 | 0       | 1      | nan      | nan      | nan      | Winter | 1      | 0      | 0      | 0    | 13         | 1        | 1          | 1         | 0         | 0         | 1               | 0            | 1             | 0           | 0      | 1        | 0    | 0         | 46.8\n",
       "2010-01-02 | 533       | 23            | 56           | 31         | 196         | 17.6667 | 4.9  | 0    | 3.16667  | Saturday  | 1     | 0     | 0     | 0     | 0     | 0     | 0     | 0     | 0     | 2010 | 1       | 0      | 3.6      | 0        | 14.6111  | Winter | 1      | 0      | 0      | 0    | 16         | 2        | 1          | 1         | 0         | 0         | 0               | 0            | 0             | 0           | 0      | 0        | 0    | 0         | 78.4\n",
       "2010-01-03 | 539       | 30            | 59           | 23         | 219         | 18.6667 | 4.7  | 0    | -3.11111 | Sunday    | 1     | 0     | 0     | 0     | 0     | 0     | 0     | 0     | 0     | 2010 | 1       | 0      | 4.9      | 0        | 17.6667  | Winter | 1      | 0      | 0      | 0    | 17         | 3        | 1          | 1         | 0         | 0         | 0               | 0            | 0             | 0           | 0      | 0        | 0    | 0         | 79.9\n",
       "2010-01-04 | 558       | 15            | 54           | 34         | 159         | 17.6667 | 5.4  | 0    | -4.27778 | Monday    | 1     | 0     | 0     | 0     | 0     | 0     | 0     | 0     | 0     | 2010 | 0       | 0      | 4.7      | 0        | 18.6667  | Winter | 1      | 0      | 0      | 0    | 16         | 4        | 1          | 1         | 0         | 0         | 0               | 0            | 0             | 0           | 0      | 0        | 0    | 0         | 86.4\n",
       "2010-01-05 | 547       | 17            | 52           | 24         | 160         | 16.3333 | 3.8  | 0    | -1.55556 | Tuesday   | 1     | 0     | 0     | 0     | 0     | 0     | 0     | 0     | 0     | 2010 | 0       | 0      | 5.4      | 0        | 17.6667  | Winter | 1      | 0      | 0      | 0    | 15         | 5        | 1          | 1         | 0         | 0         | 0               | 0            | 0             | 0           | 0      | 0        | 0    | 0         | 57\n",
       "2010-01-06 | 532       | 21            | 49           | 29         | 174         | 15.6667 | 3.6  | 0    | 3.83333  | Wednesday | 1     | 0     | 0     | 0     | 0     | 0     | 0     | 0     | 0     | 2010 | 0       | 0      | 3.8      | 0        | 16.3333  | Winter | 1      | 0      | 0      | 0    | 14         | 6        | 1          | 1         | 0         | 0         | 0               | 0            | 0             | 0           | 0      | 0        | 0    | 0         | 50.4\n",
       "2010-01-07 | 550       | 20            | 54           | 25         | 159         | 13.9444 | 3.1  | 0    | 7.77778  | Thursday  | 1     | 0     | 0     | 0     | 0     | 0     | 0     | 0     | 0     | 2010 | 0       | 0      | 3.6      | 0        | 15.6667  | Winter | 1      | 0      | 0      | 0    | 13         | 7        | 1          | 1         | 0         | 0         | 0               | 0            | 0             | 0           | 0      | 0        | 0    | 0         | 40.3\n",
       "2010-01-08 | 605       | 21            | 56           | 37         | 184         | 14.3889 | 3.4  | 0    | 8.22222  | Friday    | 1     | 0     | 0     | 0     | 0     | 0     | 0     | 0     | 0     | 2010 | 0       | 1      | 3.1      | 0        | 13.9444  | Winter | 1      | 0      | 0      | 0    | 14         | 8        | 1          | 1         | 0         | 0         | 0               | 0            | 0             | 0           | 0      | 0        | 0    | 0         | 47.6\n",
       "2010-01-09 | 628       | 35            | 79           | 33         | 237         | 17.8889 | 5.8  | 0    | 3.33333  | Saturday  | 1     | 0     | 0     | 0     | 0     | 0     | 0     | 0     | 0     | 2010 | 1       | 0      | 3.4      | 0        | 14.3889  | Winter | 1      | 0      | 0      | 0    | 17         | 9        | 1          | 1         | 0         | 0         | 0               | 0            | 0             | 0           | 0      | 0        | 0    | 0         | 98.6\n",
       "2010-01-10 | 618       | 27            | 46           | 35         | 192         | 17.1667 | 4.4  | 0    | 5.16667  | Sunday    | 1     | 0     | 0     | 0     | 0     | 0     | 0     | 0     | 0     | 2010 | 1       | 0      | 5.8      | 0        | 17.8889  | Winter | 1      | 0      | 0      | 0    | 16         | 10       | 1          | 1         | 0         | 0         | 0               | 0            | 0             | 0           | 0      | 0        | 0    | 0         | 70.4\n",
       "... (2995 rows omitted)"
      ]
     },
     "execution_count": 4,
     "metadata": {},
     "output_type": "execute_result"
    }
   ],
   "source": [
    "Table.read_table(\"weather_crimes_LA.csv\")"
   ]
  },
  {
   "cell_type": "code",
   "execution_count": null,
   "metadata": {},
   "outputs": [],
   "source": []
  }
 ],
 "metadata": {
  "kernelspec": {
   "display_name": "Python 3",
   "language": "python",
   "name": "python3"
  },
  "language_info": {
   "codemirror_mode": {
    "name": "ipython",
    "version": 3
   },
   "file_extension": ".py",
   "mimetype": "text/x-python",
   "name": "python",
   "nbconvert_exporter": "python",
   "pygments_lexer": "ipython3",
   "version": "3.6.7"
  }
 },
 "nbformat": 4,
 "nbformat_minor": 2
}
